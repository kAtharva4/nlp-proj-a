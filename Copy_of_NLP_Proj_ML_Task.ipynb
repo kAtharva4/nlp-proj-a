{
  "cells": [
    {
      "cell_type": "markdown",
      "metadata": {
        "id": "view-in-github",
        "colab_type": "text"
      },
      "source": [
        "<a href=\"https://colab.research.google.com/github/kAtharva4/nlp-proj-a/blob/main/Copy_of_NLP_Proj_ML_Task.ipynb\" target=\"_parent\"><img src=\"https://colab.research.google.com/assets/colab-badge.svg\" alt=\"Open In Colab\"/></a>"
      ]
    },
    {
      "cell_type": "markdown",
      "source": [
        " **Section 1: Load the Dataset**"
      ],
      "metadata": {
        "id": "griLMId64Ppj"
      }
    },
    {
      "cell_type": "code",
      "source": [
        "\n",
        "import numpy as np\n",
        "import pandas as pd\n",
        "import re\n",
        "import nltk\n",
        "from nltk.corpus import stopwords\n",
        "from nltk.stem import WordNetLemmatizer\n",
        "from nltk.tokenize import word_tokenize\n",
        "import matplotlib.pyplot as plt\n",
        "import seaborn as sns\n",
        "from sklearn.feature_extraction.text import CountVectorizer, TfidfVectorizer\n",
        "from sklearn.model_selection import train_test_split, cross_val_score, GridSearchCV\n",
        "from sklearn.metrics import accuracy_score, precision_score, recall_score, f1_score, classification_report, confusion_matrix\n",
        "from sklearn.ensemble import RandomForestClassifier, GradientBoostingClassifier\n",
        "from sklearn.linear_model import LogisticRegression\n",
        "from sklearn.svm import SVC\n",
        "from sklearn.pipeline import Pipeline\n",
        "from scipy.sparse import hstack, csr_matrix\n",
        "import joblib\n",
        "\n",
        "\n",
        "nltk.download('stopwords', quiet=True)\n",
        "nltk.download('wordnet', quiet=True)\n",
        "nltk.download('punkt', quiet=True)\n",
        "nltk.download('punkt_tab', quiet=True)\n",
        "nltk.download('vader_lexicon', quiet=True)\n",
        "\n",
        "\n",
        "from nltk.sentiment.vader import SentimentIntensityAnalyzer\n",
        "\n",
        "\n",
        "\n",
        "df = pd.read_csv(\"/content/drive/MyDrive/customer_service_sentiment - meaningful_customer_service_sentiment.csv.csv\")\n",
        "print(\"Dataset shape:\", df.shape)\n",
        "print(\"\\nSample data:\")\n",
        "print(df.head())\n",
        "\n",
        "\n",
        "\n"
      ],
      "metadata": {
        "colab": {
          "base_uri": "https://localhost:8080/"
        },
        "id": "m0YSOZwmv30z",
        "outputId": "970025bd-313b-47c1-cdf5-9cfd7deb8158"
      },
      "execution_count": null,
      "outputs": [
        {
          "output_type": "stream",
          "name": "stdout",
          "text": [
            "Dataset shape: (5000, 2)\n",
            "\n",
            "Sample data:\n",
            "                                    customer_message sentiment_label\n",
            "0  I need some clarification about my delivery. W...         Neutral\n",
            "1  Hello, I'm checking in about my account access...         Neutral\n",
            "2  Hi, your assistance with my refund was much ap...       Satisfied\n",
            "3  Could you please update me on the progress of ...         Neutral\n",
            "4  I've been waiting for a response about my acco...      Frustrated\n"
          ]
        }
      ]
    },
    {
      "cell_type": "markdown",
      "source": [
        "**Section 2: Perform Exploratory Data Analysis (EDA)** **bold text**\n"
      ],
      "metadata": {
        "id": "N6WbhAZ510NT"
      }
    },
    {
      "cell_type": "code",
      "source": [
        "print(\"\\nDataset Information:\")\n",
        "df.info()\n",
        "\n",
        "print(\"\\nSummary Statistics:\")\n",
        "print(df.describe())\n",
        "\n",
        "print(\"\\nClass distribution:\")\n",
        "class_counts = df['sentiment_label'].value_counts()\n",
        "print(class_counts)\n",
        "\n",
        "\n",
        "plt.figure(figsize=(8, 6))\n",
        "sns.barplot(x=class_counts.index, y=class_counts.values, palette='viridis')\n",
        "plt.title(\"Class Distribution of Sentiment Labels\")\n",
        "plt.xlabel(\"Sentiment Label\")\n",
        "plt.ylabel(\"Count\")\n",
        "plt.show()\n",
        "\n",
        "print(f\"Total duplicate messages: {df['customer_message'].duplicated().sum()}\")\n",
        "\n",
        "# missing values\n",
        "print(\"\\nMissing values per column:\")\n",
        "missing_values = df.isnull().sum()\n",
        "print(missing_values)\n",
        "\n",
        "#visualization  missing values\n",
        "plt.figure(figsize=(10, 6))\n",
        "sns.heatmap(df.isnull(), cmap='viridis', cbar=False, yticklabels=False)\n",
        "plt.title(\"Missing Values in Dataset\")\n",
        "plt.show()\n",
        "\n",
        "# fill missing values if any\n",
        "if df['customer_message'].isnull().sum() > 0:\n",
        "    df['customer_message'] = df['customer_message'].fillna('')\n",
        "\n",
        "#text length distribution\n",
        "df['message_length'] = df['customer_message'].apply(len)\n",
        "plt.figure(figsize=(8, 6))\n",
        "sns.histplot(df['message_length'], bins=30, kde=True, color='blue')\n",
        "plt.title(\"Distribution of Message Lengths\")\n",
        "plt.xlabel(\"Message Length\")\n",
        "plt.ylabel(\"Frequency\")\n",
        "plt.show()\n",
        "\n",
        "#word count distribution\n",
        "df['word_count'] = df['customer_message'].apply(lambda x: len(x.split()))\n",
        "plt.figure(figsize=(8, 6))\n",
        "sns.histplot(df['word_count'], bins=30, kde=True, color='green')\n",
        "plt.title(\"Distribution of Word Counts in Messages\")\n",
        "plt.xlabel(\"Word Count\")\n",
        "plt.ylabel(\"Frequency\")\n",
        "plt.show()\n",
        "\n",
        "# common words in messages\n",
        "from collections import Counter\n",
        "all_words = ' '.join(df['customer_message']).split()\n",
        "word_freq = Counter(all_words)\n",
        "common_words = pd.DataFrame(word_freq.most_common(20), columns=['Word', 'Count'])\n",
        "\n",
        "plt.figure(figsize=(10, 6))\n",
        "sns.barplot(x=common_words['Count'], y=common_words['Word'], palette='plasma')\n",
        "plt.title(\"Top 20 Most Common Words in Customer Messages\")\n",
        "plt.xlabel(\"Count\")\n",
        "plt.ylabel(\"Word\")\n",
        "plt.show()"
      ],
      "metadata": {
        "colab": {
          "base_uri": "https://localhost:8080/",
          "height": 3054
        },
        "id": "OnO1vtmd1wvj",
        "outputId": "021faa27-c6cb-4139-e46a-45bde92b48af"
      },
      "execution_count": null,
      "outputs": [
        {
          "output_type": "stream",
          "name": "stdout",
          "text": [
            "\n",
            "Dataset Information:\n",
            "<class 'pandas.core.frame.DataFrame'>\n",
            "RangeIndex: 5000 entries, 0 to 4999\n",
            "Data columns (total 2 columns):\n",
            " #   Column            Non-Null Count  Dtype \n",
            "---  ------            --------------  ----- \n",
            " 0   customer_message  5000 non-null   object\n",
            " 1   sentiment_label   5000 non-null   object\n",
            "dtypes: object(2)\n",
            "memory usage: 78.3+ KB\n",
            "\n",
            "Summary Statistics:\n",
            "                                         customer_message sentiment_label\n",
            "count                                                5000            5000\n",
            "unique                                               1301               3\n",
            "top     Could you please update me on the progress of ...      Frustrated\n",
            "freq                                                   69            1717\n",
            "\n",
            "Class distribution:\n",
            "sentiment_label\n",
            "Frustrated    1717\n",
            "Neutral       1651\n",
            "Satisfied     1632\n",
            "Name: count, dtype: int64\n"
          ]
        },
        {
          "output_type": "stream",
          "name": "stderr",
          "text": [
            "<ipython-input-69-d6a0f205e789>:13: FutureWarning: \n",
            "\n",
            "Passing `palette` without assigning `hue` is deprecated and will be removed in v0.14.0. Assign the `x` variable to `hue` and set `legend=False` for the same effect.\n",
            "\n",
            "  sns.barplot(x=class_counts.index, y=class_counts.values, palette='viridis')\n"
          ]
        },
        {
          "output_type": "display_data",
          "data": {
            "text/plain": [
              "<Figure size 800x600 with 1 Axes>"
            ],
            "image/png": "[encoded data removed]"
          },
          "metadata": {}
        },
        {
          "output_type": "stream",
          "name": "stdout",
          "text": [
            "Total duplicate messages: 3699\n",
            "\n",
            "Missing values per column:\n",
            "customer_message    0\n",
            "sentiment_label     0\n",
            "dtype: int64\n"
          ]
        },
        {
          "output_type": "display_data",
          "data": {
            "text/plain": [
              "<Figure size 1000x600 with 1 Axes>"
            ],
            "image/png": "[encoded data removed]"
          },
          "metadata": {}
        },
        {
          "output_type": "display_data",
          "data": {
            "text/plain": [
              "<Figure size 800x600 with 1 Axes>"
            ],
            "image/png": "[encoded data removed]"
          },
          "metadata": {}
        },
        {
          "output_type": "display_data",
          "data": {
            "text/plain": [
              "<Figure size 800x600 with 1 Axes>"
            ],
            "image/png": "[encoded data removed]"
          },
          "metadata": {}
        },
        {
          "output_type": "stream",
          "name": "stderr",
          "text": [
            "<ipython-input-69-d6a0f205e789>:61: FutureWarning: \n",
            "\n",
            "Passing `palette` without assigning `hue` is deprecated and will be removed in v0.14.0. Assign the `y` variable to `hue` and set `legend=False` for the same effect.\n",
            "\n",
            "  sns.barplot(x=common_words['Count'], y=common_words['Word'], palette='plasma')\n"
          ]
        },
        {
          "output_type": "display_data",
          "data": {
            "text/plain": [
              "<Figure size 1000x600 with 1 Axes>"
            ],
            "image/png": "[encoded data removed]"
          },
          "metadata": {}
        }
      ]
    },
    {
      "cell_type": "markdown",
      "source": [
        "**Section 3: Perform Text Processing on Dataset**\n"
      ],
      "metadata": {
        "id": "614M1Ap01hki"
      }
    },
    {
      "cell_type": "code",
      "source": [
        "\n",
        "lemmatizer = WordNetLemmatizer()\n",
        "\n",
        "\n",
        "stop_words = set(stopwords.words('english'))\n",
        "words_to_keep = {\"not\", \"no\", \"never\", \"would\", \"could\", \"can't\", \"don't\", \"doesn't\",\n",
        "                 \"didn't\", \"won't\", \"wouldn't\", \"shouldn't\", \"couldn't\", \"very\",\n",
        "                 \"too\", \"so\", \"really\", \"extremely\", \"absolutely\", \"completely\"}\n",
        "filtered_stop_words = stop_words - words_to_keep\n",
        "\n",
        "\n",
        "contractions = {\n",
        "    \"i'm\": \"i am\", \"i've\": \"i have\", \"you're\": \"you are\", \"we're\": \"we are\",\n",
        "    \"they're\": \"they are\", \"it's\": \"it is\", \"that's\": \"that is\", \"there's\": \"there is\",\n",
        "    \"he's\": \"he is\", \"she's\": \"she is\", \"who's\": \"who is\", \"what's\": \"what is\",\n",
        "    \"where's\": \"where is\", \"when's\": \"when is\", \"why's\": \"why is\", \"how's\": \"how is\",\n",
        "    \"isn't\": \"is not\", \"aren't\": \"are not\", \"wasn't\": \"was not\", \"weren't\": \"were not\",\n",
        "    \"don't\": \"do not\", \"doesn't\": \"does not\", \"didn't\": \"did not\", \"can't\": \"cannot\",\n",
        "    \"couldn't\": \"could not\", \"shouldn't\": \"should not\", \"wouldn't\": \"would not\",\n",
        "    \"won't\": \"will not\", \"haven't\": \"have not\", \"hasn't\": \"has not\", \"hadn't\": \"had not\",\n",
        "    \"i'll\": \"i will\", \"you'll\": \"you will\", \"he'll\": \"he will\", \"she'll\": \"she will\",\n",
        "    \"we'll\": \"we will\", \"they'll\": \"they will\", \"i'd\": \"i would\", \"you'd\": \"you would\",\n",
        "    \"he'd\": \"he would\", \"she'd\": \"she would\", \"we'd\": \"we would\", \"they'd\": \"they would\"\n",
        "}\n",
        "\n",
        "def expand_contractions(text):\n",
        "    \"\"\"Expand contractions in text\"\"\"\n",
        "    for contraction, expanded in contractions.items():\n",
        "        text = re.sub(r'\\b' + contraction + r'\\b', expanded, text)\n",
        "    return text\n",
        "\n",
        "def clean_text(text):\n",
        "    \"\"\"Improved text cleaning function\"\"\"\n",
        "    if not isinstance(text, str):\n",
        "        return \"\"\n",
        "\n",
        "    #lowercase\n",
        "    text = text.lower()\n",
        "\n",
        "    #xpand contractions\n",
        "    text = expand_contractions(text)\n",
        "\n",
        "    #replameent of multiple spaces with single space\n",
        "    text = re.sub(r'\\s+', ' ', text)\n",
        "\n",
        "    #removal of URLs\n",
        "    text = re.sub(r'https?://\\S+|www\\.\\S+', '', text)\n",
        "\n",
        "    # removal of email addresses\n",
        "    text = re.sub(r'\\S+@\\S+', '', text)\n",
        "\n",
        "    #\n",
        "    text = re.sub(r'[^\\w\\s!?.,;:()\\'\"-]', ' ', text)\n",
        "\n",
        "    #replacement multiple punctuation with single\n",
        "    text = re.sub(r'([!?.,;:()\\'\"/-])\\1+', r'\\1', text)\n",
        "\n",
        "    #tokenization\n",
        "    words = word_tokenize(text)\n",
        "\n",
        "    #removal of stopwords\n",
        "    cleaned_words = [lemmatizer.lemmatize(word) for word in words if word not in filtered_stop_words]\n",
        "\n",
        "    return \" \".join(cleaned_words)\n",
        "\n",
        "#  text cleaning\n",
        "df['cleaned_text'] = df['customer_message'].apply(clean_text)\n",
        "\n",
        "print(\"\\nCleaned text examples:\")\n",
        "for i in range(min(5, len(df))):\n",
        "    print(f\"Original: {df['customer_message'].iloc[i][:100]}...\")\n",
        "    print(f\"Cleaned:  {df['cleaned_text'].iloc[i][:100]}...\")\n",
        "    print()\n"
      ],
      "metadata": {
        "colab": {
          "base_uri": "https://localhost:8080/"
        },
        "id": "l5r_xyxj1gM8",
        "outputId": "401b3746-6b9b-4ced-bdeb-737d8998b82d"
      },
      "execution_count": null,
      "outputs": [
        {
          "output_type": "stream",
          "name": "stdout",
          "text": [
            "\n",
            "Cleaned text examples:\n",
            "Original: I need some clarification about my delivery. What are the next steps?...\n",
            "Cleaned:  need clarification delivery . next step ?...\n",
            "\n",
            "Original: Hello, I'm checking in about my account access and would like to get further details....\n",
            "Cleaned:  hello , checking account access would like get detail ....\n",
            "\n",
            "Original: Hi, your assistance with my refund was much appreciated. I'm very satisfied with the results....\n",
            "Cleaned:  hi , assistance refund much appreciated . very satisfied result ....\n",
            "\n",
            "Original: Could you please update me on the progress of my account access? I appreciate your help....\n",
            "Cleaned:  could please update progress account access ? appreciate help ....\n",
            "\n",
            "Original: I've been waiting for a response about my account access for two days and I'm getting tired of this ...\n",
            "Cleaned:  waiting response account access two day getting tired disappointing service ....\n",
            "\n"
          ]
        }
      ]
    },
    {
      "cell_type": "markdown",
      "source": [
        "**Section 4: Generate NLP-Based Features**\n"
      ],
      "metadata": {
        "id": "U6-TwC8g1YxS"
      }
    },
    {
      "cell_type": "code",
      "source": [
        "\n",
        "# VADER sentiment analyzer intiizlaliation\n",
        "sid = SentimentIntensityAnalyzer()\n",
        "\n",
        "#xpanded sentiment lexicons for customer service domain\n",
        "positive_words = [\n",
        "    'thank', 'thanks', 'grateful', 'appreciate', 'appreciated', 'helpful', 'happy', 'satisfied', 'pleased',\n",
        "    'excellent', 'outstanding', 'exceptional', 'great', 'good', 'wonderful', 'fantastic', 'superb', 'brilliant',\n",
        "    'awesome', 'amazing', 'delighted', 'love', 'perfect', 'impressed', 'responsive', 'quick', 'fast', 'efficient',\n",
        "    'professional', 'friendly', 'courteous', 'polite', 'patient', 'understanding', 'knowledgeable', 'expert',\n",
        "    'resolve', 'resolved', 'solution', 'solved', 'fixed', 'effective', 'promptly', 'immediately', 'quickly',\n",
        "    'recommend', 'reliable', 'quality', 'valuable', 'worth', 'smooth', 'seamless', 'easy', 'convenient', 'clear'\n",
        "]\n",
        "\n",
        "negative_words = [\n",
        "    'issue', 'problem', 'complaint', 'frustrating', 'frustrated', 'frustration', 'disappointing', 'disappointed',\n",
        "    'disappointment', 'bad', 'poor', 'terrible', 'horrible', 'awful', 'worst', 'useless', 'unhelpful', 'unhappy',\n",
        "    'dissatisfied', 'angry', 'upset', 'annoyed', 'annoying', 'slow', 'delay', 'delayed', 'waiting', 'wait', 'long',\n",
        "    'unacceptable', 'fail', 'failed', 'failure', 'mistake', 'error', 'wrong', 'incorrect', 'inaccurate', 'fault',\n",
        "    'difficult', 'hard', 'complicated', 'confusing', 'confused', 'unclear', 'vague', 'unprofessional', 'rude',\n",
        "    'impolite', 'unfriendly', 'disrespectful', 'unresponsive', 'ignored', 'ignore', 'neglected', 'never', 'no',\n",
        "    'not', 'refuse', 'refused', 'rejection', 'rejected', 'cancel', 'cancelled', 'cancellation', 'charge', 'overcharged',\n",
        "    'expensive', 'costly', 'waste', 'wasted', 'refund', 'money', 'compensation', 'reimburse', 'reimbursement',\n",
        "    'complaint', 'complain', 'escalate', 'escalation', 'supervisor', 'manager', 'management'\n",
        "]\n",
        "\n",
        "# bigrams that capture negation phrases\n",
        "negation_phrases = [\n",
        "    'not satisfied', 'not happy', 'not pleased', 'not good', 'not great', 'not helpful', 'not responsive',\n",
        "    'not resolved', 'not fixed', 'not working', 'not acceptable', 'not professional', 'never received',\n",
        "    'never resolved', 'never responded', 'never got', 'no response', 'no solution', 'no help', 'no refund',\n",
        "    'no resolution', 'still waiting', 'still unresolved', 'still broken', 'still not', 'very disappointed',\n",
        "    'very frustrated', 'extremely disappointed', 'extremely frustrated', 'completely unacceptable',\n",
        "    'totally unacceptable', 'absolutely terrible'\n",
        "]\n",
        "\n",
        "\n",
        "urgency_words = [\n",
        "    'urgent', 'urgently', 'immediately', 'asap', 'as soon as possible', 'quickly', 'quick', 'hurry',\n",
        "    'soon', 'emergency', 'critical', 'crucial', 'important', 'priority', 'prompt', 'pressing', 'fast',\n",
        "    'rush', 'expedite', 'now', 'today', 'desperate', 'serious', 'vital', 'essential', 'deadline',\n",
        "    'time-sensitive', 'without delay', 'right away', 'at once', 'instantly', 'right now',\n",
        "    'cannot wait', \"can't wait\", 'need now', 'need asap', 'need quickly', 'need immediately',\n",
        "    'need urgently', 'need it now', 'need it asap', 'need it immediately', 'need it urgently'\n",
        "]\n",
        "\n",
        "def generate_nlp_features(df):\n",
        "    \"\"\"Generate improved NLP features for sentiment analysis\"\"\"\n",
        "\n",
        "    #txt length features\n",
        "    df['char_count'] = df['cleaned_text'].apply(len)\n",
        "    df['word_count'] = df['cleaned_text'].apply(lambda x: len(x.split()))\n",
        "    df['avg_word_length'] = df['cleaned_text'].apply(lambda x:\n",
        "                                                   np.mean([len(word) for word in x.split()]) if len(x.split()) > 0 else 0)\n",
        "    df['sentence_count'] = df['customer_message'].apply(lambda x: len(re.split(r'[.!?]+', x)))\n",
        "\n",
        "    #sssentiment words and phrases count\n",
        "    df['positive_word_count'] = df['cleaned_text'].apply(\n",
        "        lambda x: sum(1 for word in x.split() if word.lower() in positive_words))\n",
        "\n",
        "    df['negative_word_count'] = df['cleaned_text'].apply(\n",
        "        lambda x: sum(1 for word in x.split() if word.lower() in negative_words))\n",
        "\n",
        "    #heck for negation phrases\n",
        "    df['negation_phrase_count'] = df['customer_message'].apply(\n",
        "        lambda x: sum(1 for phrase in negation_phrases if phrase.lower() in x.lower()))\n",
        "\n",
        "    # VADER sentiment scores\n",
        "    df['vader_compound'] = df['customer_message'].apply(lambda x: sid.polarity_scores(x)['compound'])\n",
        "    df['vader_pos'] = df['customer_message'].apply(lambda x: sid.polarity_scores(x)['pos'])\n",
        "    df['vader_neg'] = df['customer_message'].apply(lambda x: sid.polarity_scores(x)['neg'])\n",
        "    df['vader_neu'] = df['customer_message'].apply(lambda x: sid.polarity_scores(x)['neu'])\n",
        "\n",
        "    #sentiment ratio calculation\n",
        "    df['positive_negative_diff'] = df['positive_word_count'] - df['negative_word_count']\n",
        "    df['positive_negative_ratio'] = (df['positive_word_count'] + 0.1) / (df['negative_word_count'] + 0.1)\n",
        "\n",
        "    #ppunctuation features\n",
        "    df['question_count'] = df['customer_message'].apply(lambda x: x.count('?'))\n",
        "    df['exclamation_count'] = df['customer_message'].apply(lambda x: x.count('!'))\n",
        "    df['uppercase_word_count'] = df['customer_message'].apply(\n",
        "        lambda x: sum(1 for word in x.split() if word.isupper() and len(word) > 1))\n",
        "\n",
        "    #essage urgency features\n",
        "    df['urgency_score'] = df['customer_message'].apply(\n",
        "        lambda x: sum(1 for phrase in urgency_words if phrase.lower() in x.lower()))\n",
        "\n",
        "    #message complexity\n",
        "    df['avg_sentence_length'] = df.apply(\n",
        "        lambda row: row['word_count'] / max(row['sentence_count'], 1), axis=1)\n",
        "\n",
        "    return df\n",
        "\n",
        "#improved NLP features\n",
        "df = generate_nlp_features(df)\n",
        "\n",
        "# features\n",
        "nlp_features = [\n",
        "    'char_count', 'word_count', 'sentence_count', 'avg_word_length', 'avg_sentence_length',\n",
        "    'positive_word_count', 'negative_word_count', 'negation_phrase_count',\n",
        "    'vader_compound', 'vader_pos', 'vader_neg', 'vader_neu',\n",
        "    'positive_negative_diff', 'positive_negative_ratio',\n",
        "    'question_count', 'exclamation_count', 'uppercase_word_count', 'urgency_score'\n",
        "]\n",
        "\n",
        "print(\"\\nImproved NLP Features:\")\n",
        "print(df[nlp_features].describe())\n",
        "\n"
      ],
      "metadata": {
        "colab": {
          "base_uri": "https://localhost:8080/"
        },
        "id": "w63rF7e31XFD",
        "outputId": "f099500a-7338-40ae-ffea-d460e9c91a41"
      },
      "execution_count": null,
      "outputs": [
        {
          "output_type": "stream",
          "name": "stdout",
          "text": [
            "\n",
            "Improved NLP Features:\n",
            "        char_count   word_count  sentence_count  avg_word_length  \\\n",
            "count  5000.000000  5000.000000     5000.000000      5000.000000   \n",
            "mean     74.155000    11.708400        2.933000         5.407445   \n",
            "std      16.088852     2.206342        0.442437         0.611716   \n",
            "min      39.000000     7.000000        2.000000         3.928571   \n",
            "25%      63.000000    10.000000        3.000000         5.000000   \n",
            "50%      75.000000    11.000000        3.000000         5.375000   \n",
            "75%      86.000000    14.000000        3.000000         5.800000   \n",
            "max     115.000000    17.000000        4.000000         7.285714   \n",
            "\n",
            "       avg_sentence_length  positive_word_count  negative_word_count  \\\n",
            "count          5000.000000          5000.000000          5000.000000   \n",
            "mean              4.051650             1.057800             1.027400   \n",
            "std               0.809113             1.296301             1.328684   \n",
            "min               2.333333             0.000000             0.000000   \n",
            "25%               3.500000             0.000000             0.000000   \n",
            "50%               4.000000             0.000000             0.000000   \n",
            "75%               4.666667             2.000000             2.000000   \n",
            "max               6.000000             5.000000             6.000000   \n",
            "\n",
            "       negation_phrase_count  vader_compound    vader_pos    vader_neg  \\\n",
            "count            5000.000000     5000.000000  5000.000000  5000.000000   \n",
            "mean                0.066600        0.240352     0.236603     0.080814   \n",
            "std                 0.249353        0.611249     0.195552     0.108393   \n",
            "min                 0.000000       -0.765700     0.000000     0.000000   \n",
            "25%                 0.000000       -0.440400     0.000000     0.000000   \n",
            "50%                 0.000000        0.492600     0.240000     0.000000   \n",
            "75%                 0.000000        0.797800     0.412000     0.151000   \n",
            "max                 1.000000        0.958800     0.646000     0.322000   \n",
            "\n",
            "         vader_neu  positive_negative_diff  positive_negative_ratio  \\\n",
            "count  5000.000000             5000.000000              5000.000000   \n",
            "mean      0.682604                0.030400                 7.269106   \n",
            "std       0.152093                2.034872                11.625119   \n",
            "min       0.354000               -5.000000                 0.019608   \n",
            "25%       0.571000               -2.000000                 0.090909   \n",
            "50%       0.670000                0.000000                 1.000000   \n",
            "75%       0.763000                2.000000                11.000000   \n",
            "max       1.000000                5.000000                51.000000   \n",
            "\n",
            "       question_count  exclamation_count  uppercase_word_count  urgency_score  \n",
            "count     5000.000000        5000.000000                5000.0    5000.000000  \n",
            "mean         0.206000           0.190800                   0.0       0.322600  \n",
            "std          0.404471           0.392971                   0.0       0.588726  \n",
            "min          0.000000           0.000000                   0.0       0.000000  \n",
            "25%          0.000000           0.000000                   0.0       0.000000  \n",
            "50%          0.000000           0.000000                   0.0       0.000000  \n",
            "75%          0.000000           0.000000                   0.0       1.000000  \n",
            "max          1.000000           1.000000                   0.0       2.000000  \n"
          ]
        }
      ]
    },
    {
      "cell_type": "markdown",
      "source": [
        "**Section 5: Generate Bag of Words, TFIDF, and FastText Features**\n"
      ],
      "metadata": {
        "id": "tXEcBqnD1Ov7"
      }
    },
    {
      "cell_type": "code",
      "source": [
        "\n",
        "#generato  of n-grams to capture phrases and context\n",
        "\n",
        "print(\"\\nGenerating improved Bag of Words features...\")\n",
        "bow_vectorizer = CountVectorizer(\n",
        "    max_features=1500,\n",
        "    ngram_range=(1, 3),\n",
        "    min_df=2,\n",
        "    max_df=0.9,\n",
        "    binary=False\n",
        ")\n",
        "X_bow = bow_vectorizer.fit_transform(df['cleaned_text'])\n",
        "print(f\"BoW shape: {X_bow.shape}\")\n",
        "\n",
        "print(\"Generating improved TF-IDF features...\")\n",
        "tfidf_vectorizer = TfidfVectorizer(\n",
        "    max_features=2500,\n",
        "    ngram_range=(1, 3),\n",
        "    min_df=2,\n",
        "    max_df=0.9,\n",
        "    sublinear_tf=True,\n",
        "    use_idf=True,\n",
        "    norm='l2'\n",
        ")\n",
        "X_tfidf = tfidf_vectorizer.fit_transform(df['cleaned_text'])\n",
        "print(f\"TF-IDF shape: {X_tfidf.shape}\")\n",
        "\n"
      ],
      "metadata": {
        "colab": {
          "base_uri": "https://localhost:8080/"
        },
        "id": "8LqIxq1B1NKL",
        "outputId": "912ba6fe-1ef4-4537-a152-dafba89a970a"
      },
      "execution_count": null,
      "outputs": [
        {
          "output_type": "stream",
          "name": "stdout",
          "text": [
            "\n",
            "Generating improved Bag of Words features...\n",
            "BoW shape: (5000, 1266)\n",
            "Generating improved TF-IDF features...\n",
            "TF-IDF shape: (5000, 1266)\n"
          ]
        }
      ]
    },
    {
      "cell_type": "markdown",
      "source": [
        "**Section 6: Prepare Features and Split Data**\n"
      ],
      "metadata": {
        "id": "4_EJOKsy1GTb"
      }
    },
    {
      "cell_type": "code",
      "source": [
        "\n",
        "\n",
        "X_nlp = df[nlp_features].values\n",
        "y = df['sentiment_label']\n",
        "\n",
        "print(\"\\nUnique sentiment labels:\", df['sentiment_label'].unique())\n",
        "\n",
        "\n",
        "random_state = 42\n",
        "test_size = 0.2\n",
        "\n",
        "X_nlp_train, X_nlp_test, y_train_nlp, y_test_nlp = train_test_split(\n",
        "    X_nlp, y, test_size=test_size, random_state=random_state, stratify=y)\n",
        "\n",
        "X_tfidf_train, X_tfidf_test, y_train_tfidf, y_test_tfidf = train_test_split(\n",
        "    X_tfidf, y, test_size=test_size, random_state=random_state, stratify=y)\n",
        "\n"
      ],
      "metadata": {
        "colab": {
          "base_uri": "https://localhost:8080/"
        },
        "id": "SH6mz0CX1EoD",
        "outputId": "be7e67ca-98f6-45b0-e354-bdcd3fa56baa"
      },
      "execution_count": null,
      "outputs": [
        {
          "output_type": "stream",
          "name": "stdout",
          "text": [
            "\n",
            "Unique sentiment labels: ['Neutral' 'Satisfied' 'Frustrated']\n"
          ]
        }
      ]
    },
    {
      "cell_type": "markdown",
      "source": [
        "**Section 7: Train Models on All Combined Features with TFIDF**\n"
      ],
      "metadata": {
        "id": "8sP_u3rW09yL"
      }
    },
    {
      "cell_type": "code",
      "source": [
        "\n",
        "# combined feature matrix by combining NLP features with TF-IDF\n",
        "\n",
        "print(\"\\n=== Building Enhanced Combined Feature Model ===\")\n",
        "X_nlp_sparse = csr_matrix(X_nlp)\n",
        "X_combined = hstack([X_nlp_sparse, X_tfidf])\n",
        "print(f\"Combined features shape: {X_combined.shape}\")\n",
        "\n",
        "X_combined_train, X_combined_test, y_train_combined, y_test_combined = train_test_split(\n",
        "    X_combined, y, test_size=test_size, random_state=random_state, stratify=y)\n"
      ],
      "metadata": {
        "colab": {
          "base_uri": "https://localhost:8080/"
        },
        "id": "VvRIRvys08e7",
        "outputId": "e6c7b556-70c8-4ccf-fbca-58b52d223be9"
      },
      "execution_count": null,
      "outputs": [
        {
          "output_type": "stream",
          "name": "stdout",
          "text": [
            "\n",
            "=== Building Enhanced Combined Feature Model ===\n",
            "Combined features shape: (5000, 1284)\n"
          ]
        }
      ]
    },
    {
      "cell_type": "markdown",
      "source": [
        "**Section 8: Train All Supervised Models and Evaluate**\n"
      ],
      "metadata": {
        "id": "OeuB-Nss01ML"
      }
    },
    {
      "cell_type": "code",
      "source": [
        "\n",
        "from sklearn.model_selection import cross_val_score, cross_validate\n",
        "\n",
        "def validate_model(model, X_train, y_train, cv=5):\n",
        "\n",
        "    scoring_metrics = ['accuracy', 'precision_weighted', 'recall_weighted', 'f1_weighted']\n",
        "    scores = cross_validate(model, X_train, y_train, cv=cv, scoring=scoring_metrics, n_jobs=-1)\n",
        "\n",
        "    results = {\n",
        "        \"Validation Accuracy\": scores['test_accuracy'].mean(),\n",
        "        \"Validation Precision\": scores['test_precision_weighted'].mean(),\n",
        "        \"Validation Recall\": scores['test_recall_weighted'].mean(),\n",
        "        \"Validation F1 Score\": scores['test_f1_weighted'].mean()\n",
        "    }\n",
        "\n",
        "    return results\n",
        "\n",
        "models = {\n",
        "    'LogisticRegression': LogisticRegression(\n",
        "    max_iter=1000,\n",
        "    C=0.001,\n",
        "    class_weight='balanced',\n",
        "    solver='liblinear',\n",
        "    dual=False,\n",
        "    random_state=random_state\n",
        "),\n",
        "    'RandomForest': RandomForestClassifier(\n",
        "    n_estimators=10,\n",
        "    max_depth=2,\n",
        "    min_samples_split=75,\n",
        "    min_samples_leaf=40,\n",
        "    max_features=0.05,\n",
        "    bootstrap=True,\n",
        "    oob_score=True,\n",
        "    class_weight='balanced',\n",
        "    random_state=random_state\n",
        "),\n",
        "\n",
        "    'SVC': SVC(\n",
        "        kernel='rbf',\n",
        "        C=1.0,\n",
        "        gamma='scale',\n",
        "        probability=True,\n",
        "        class_weight='balanced',\n",
        "        random_state=random_state\n",
        "    )\n",
        "}\n",
        "\n",
        "\n",
        "print(\"\\n=== Model Validation Using Cross-Validation ===\")\n",
        "for name, model in models.items():\n",
        "    print(f\"\\nValidating {name}...\")\n",
        "    validation_results = validate_model(model, X_combined_train, y_train_combined)\n",
        "\n",
        "    for metric, value in validation_results.items():\n",
        "        print(f\"{metric}: {value:.4f}\")\n",
        "\n",
        "\n",
        "\n",
        "print(\"\\n=== Model Performance on Combined Features ===\")\n",
        "best_model = None\n",
        "best_score = 0\n",
        "best_model_name = \"\"\n",
        "all_predictions = {}\n",
        "\n",
        "for name, model in models.items():\n",
        "    model.fit(X_combined_train, y_train_combined)\n",
        "    y_pred = model.predict(X_combined_test)\n",
        "\n",
        "    # calculation of metrics\n",
        "    accuracy = accuracy_score(y_test_combined, y_pred)\n",
        "    precision = precision_score(y_test_combined, y_pred, average='weighted')\n",
        "    recall = recall_score(y_test_combined, y_pred, average='weighted')\n",
        "    f1 = f1_score(y_test_combined, y_pred, average='weighted')\n",
        "\n",
        "    print(f\"{name}:\")\n",
        "    print(f\"  Accuracy: {accuracy:.4f}\")\n",
        "    print(f\"  Precision: {precision:.4f}\")\n",
        "    print(f\"  Recall: {recall:.4f}\")\n",
        "    print(f\"  F1 Score: {f1:.4f}\")\n",
        "\n",
        "    #storage of predictions for ensemble\n",
        "    all_predictions[name] = model.predict_proba(X_combined_test)\n",
        "\n",
        "    if f1 > best_score:\n",
        "        best_score = f1\n",
        "        best_model = model\n",
        "        best_model_name = name\n",
        "\n",
        "print(f\"\\nBest individual model: {best_model_name}\")\n",
        "\n",
        "\n",
        "rf_model = models['RandomForest']\n",
        "try:\n",
        "    feature_importances = rf_model.feature_importances_\n",
        "    sorted_idx = np.argsort(feature_importances)[::-1]\n",
        "\n",
        "    print(\"\\nTop 10 Most Important Features in RandomForest:\")\n",
        "    for i in range(10):\n",
        "        print(f\"{i+1}. Feature {sorted_idx[i]} Importance: {feature_importances[sorted_idx[i]]:.4f}\")\n",
        "except AttributeError:\n",
        "    print(\"Error: rf_model might not have feature_importances_ attribute.\")\n",
        "\n",
        "\n",
        "feature_names_nlp = nlp_features\n",
        "feature_names_tfidf = tfidf_vectorizer.get_feature_names_out()\n",
        "\n",
        "#combination of feature names\n",
        "feature_names = np.concatenate([feature_names_nlp, feature_names_tfidf])\n",
        "\n",
        "print(\"\\nTop 10 Most Important Features in RandomForest:\")\n",
        "for i in range(10):\n",
        "    print(f\"{i + 1}. Feature {feature_names[sorted_idx[i]]}: Importance: {feature_importances[sorted_idx[i]]:.4f}\")\n",
        "ensemble_probs = np.zeros_like(all_predictions[list(all_predictions.keys())[0]])\n",
        "for name in all_predictions:\n",
        "    ensemble_probs += all_predictions[name]\n",
        "ensemble_probs /= len(all_predictions)\n",
        "ensemble_preds = np.argmax(ensemble_probs, axis=1)\n",
        "\n",
        "if hasattr(y_train_combined, 'unique'):\n",
        "    unique_labels = sorted(y_train_combined.unique())\n",
        "    ensemble_preds = [unique_labels[i] for i in ensemble_preds]\n",
        "\n",
        "ensemble_accuracy = accuracy_score(y_test_combined, ensemble_preds)\n",
        "ensemble_f1 = f1_score(y_test_combined, ensemble_preds, average='weighted')\n",
        "\n",
        "print(\"\\nEnsemble Model:\")\n",
        "print(f\"  Accuracy: {ensemble_accuracy:.4f}\")\n",
        "print(f\"  F1 Score: {ensemble_f1:.4f}\")\n",
        "\n",
        "if ensemble_f1 > best_score:\n",
        "    print(\"Ensemble model performs best!\")\n",
        "    final_model = \"ensemble\"\n",
        "    final_models = {name: model for name, model in models.items()}\n",
        "else:\n",
        "    print(f\"Individual {best_model_name} model performs best!\")\n",
        "    final_model = best_model\n",
        "    final_model_name = best_model_name\n",
        "\n",
        "\n",
        "print(\"\\nClassification Report for Best Model:\")\n",
        "if final_model == \"ensemble\":\n",
        "    print(classification_report(y_test_combined, ensemble_preds))\n",
        "\n",
        "    print(\"\\nConfusion Matrix:\")\n",
        "    conf_matrix = confusion_matrix(y_test_combined, ensemble_preds)\n",
        "    print(conf_matrix)\n",
        "\n",
        "    plt.figure(figsize=(8, 6))\n",
        "    sns.heatmap(conf_matrix, annot=True, fmt='d', cmap='Blues',\n",
        "                xticklabels=sorted(y.unique()),\n",
        "                yticklabels=sorted(y.unique()))\n",
        "    plt.xlabel('Predicted')\n",
        "    plt.ylabel('Actual')\n",
        "    plt.title('Confusion Matrix - Ensemble Model')\n",
        "    plt.tight_layout()\n",
        "    plt.show()\n",
        "else:\n",
        "    y_pred = final_model.predict(X_combined_test)\n",
        "    print(classification_report(y_test_combined, y_pred))\n",
        "\n",
        "    print(\"\\nConfusion Matrix:\")\n",
        "    conf_matrix = confusion_matrix(y_test_combined, y_pred)\n",
        "    print(conf_matrix)\n",
        "\n",
        "    plt.figure(figsize=(8, 6))\n",
        "    sns.heatmap(conf_matrix, annot=True, fmt='d', cmap='Blues',\n",
        "                xticklabels=sorted(y.unique()),\n",
        "                yticklabels=sorted(y.unique()))\n",
        "    plt.xlabel('Predicted')\n",
        "    plt.ylabel('Actual')\n",
        "    plt.title(f'Confusion Matrix - {final_model_name}')\n",
        "    plt.tight_layout()\n",
        "    plt.show()"
      ],
      "metadata": {
        "colab": {
          "base_uri": "https://localhost:8080/",
          "height": 1000
        },
        "id": "tkriiXxA0xtE",
        "outputId": "c9a5340a-1672-4b85-ccb8-82d795f30bcf"
      },
      "execution_count": null,
      "outputs": [
        {
          "output_type": "stream",
          "name": "stdout",
          "text": [
            "\n",
            "=== Model Validation Using Cross-Validation ===\n",
            "\n",
            "Validating LogisticRegression...\n",
            "Validation Accuracy: 0.9592\n",
            "Validation Precision: 0.9599\n",
            "Validation Recall: 0.9592\n",
            "Validation F1 Score: 0.9593\n",
            "\n",
            "Validating RandomForest...\n",
            "Validation Accuracy: 0.9885\n",
            "Validation Precision: 0.9887\n",
            "Validation Recall: 0.9885\n",
            "Validation F1 Score: 0.9885\n",
            "\n",
            "Validating SVC...\n",
            "Validation Accuracy: 0.9390\n",
            "Validation Precision: 0.9402\n",
            "Validation Recall: 0.9390\n",
            "Validation F1 Score: 0.9393\n",
            "\n",
            "=== Model Performance on Combined Features ===\n",
            "LogisticRegression:\n",
            "  Accuracy: 0.9640\n",
            "  Precision: 0.9641\n",
            "  Recall: 0.9640\n",
            "  F1 Score: 0.9640\n",
            "RandomForest:\n",
            "  Accuracy: 0.9930\n",
            "  Precision: 0.9930\n",
            "  Recall: 0.9930\n",
            "  F1 Score: 0.9930\n"
          ]
        },
        {
          "output_type": "stream",
          "name": "stderr",
          "text": [
            "/usr/local/lib/python3.11/dist-packages/sklearn/ensemble/_forest.py:612: UserWarning: Some inputs do not have OOB scores. This probably means too few trees were used to compute any reliable OOB estimates.\n",
            "  warn(\n"
          ]
        },
        {
          "output_type": "stream",
          "name": "stdout",
          "text": [
            "SVC:\n",
            "  Accuracy: 0.9470\n",
            "  Precision: 0.9473\n",
            "  Recall: 0.9470\n",
            "  F1 Score: 0.9471\n",
            "\n",
            "Best individual model: RandomForest\n",
            "\n",
            "Top 10 Most Important Features in RandomForest:\n",
            "1. Feature 5 Importance: 0.1716\n",
            "2. Feature 13 Importance: 0.1366\n",
            "3. Feature 3 Importance: 0.0853\n",
            "4. Feature 1280 Importance: 0.0658\n",
            "5. Feature 15 Importance: 0.0638\n",
            "6. Feature 10 Importance: 0.0603\n",
            "7. Feature 1240 Importance: 0.0594\n",
            "8. Feature 970 Importance: 0.0528\n",
            "9. Feature 882 Importance: 0.0509\n",
            "10. Feature 80 Importance: 0.0472\n",
            "\n",
            "Top 10 Most Important Features in RandomForest:\n",
            "1. Feature positive_word_count: Importance: 0.1716\n",
            "2. Feature positive_negative_ratio: Importance: 0.1366\n",
            "3. Feature avg_word_length: Importance: 0.0853\n",
            "4. Feature would: Importance: 0.0658\n",
            "5. Feature exclamation_count: Importance: 0.0638\n",
            "6. Feature vader_neg: Importance: 0.0603\n",
            "7. Feature very: Importance: 0.0594\n",
            "8. Feature so promptly: Importance: 0.0528\n",
            "9. Feature resolving: Importance: 0.0509\n",
            "10. Feature addressed: Importance: 0.0472\n",
            "\n",
            "Ensemble Model:\n",
            "  Accuracy: 0.9600\n",
            "  F1 Score: 0.9599\n",
            "Individual RandomForest model performs best!\n",
            "\n",
            "Classification Report for Best Model:\n",
            "              precision    recall  f1-score   support\n",
            "\n",
            "  Frustrated       0.99      0.99      0.99       344\n",
            "     Neutral       0.98      0.99      0.99       330\n",
            "   Satisfied       1.00      1.00      1.00       326\n",
            "\n",
            "    accuracy                           0.99      1000\n",
            "   macro avg       0.99      0.99      0.99      1000\n",
            "weighted avg       0.99      0.99      0.99      1000\n",
            "\n",
            "\n",
            "Confusion Matrix:\n",
            "[[339   5   0]\n",
            " [  2 328   0]\n",
            " [  0   0 326]]\n"
          ]
        },
        {
          "output_type": "display_data",
          "data": {
            "text/plain": [
              "<Figure size 800x600 with 2 Axes>"
            ],
            "image/png": "[encoded data removed]"
          },
          "metadata": {}
        }
      ]
    },
    {
      "cell_type": "markdown",
      "source": [
        "**Section 9: Save the Model and Make Predictions on Real-World Input**\n"
      ],
      "metadata": {
        "id": "KNSaaym40qf7"
      }
    },
    {
      "cell_type": "code",
      "source": [
        "\n",
        "print(\"\\n=== Saving the Model and Preprocessing Components ===\")\n",
        "import os\n",
        "if not os.path.exists('model'):\n",
        "    os.makedirs('model')\n",
        "\n",
        "if final_model == \"ensemble\":\n",
        "    model_components = {\n",
        "        'models': final_models,\n",
        "        'is_ensemble': True,\n",
        "        'nlp_feature_names': nlp_features,\n",
        "        'tfidf_vectorizer': tfidf_vectorizer,\n",
        "        'classes': sorted(y.unique()),\n",
        "        'contractions': contractions,\n",
        "        'positive_words': positive_words,\n",
        "        'negative_words': negative_words,\n",
        "        'negation_phrases': negation_phrases,\n",
        "        'urgency_words': urgency_words,\n",
        "        'filtered_stop_words': filtered_stop_words,\n",
        "    }\n",
        "else:\n",
        "    model_components = {\n",
        "        'model': final_model,\n",
        "        'is_ensemble': False,\n",
        "        'nlp_feature_names': nlp_features,\n",
        "        'tfidf_vectorizer': tfidf_vectorizer,\n",
        "        'classes': sorted(y.unique()),\n",
        "        'contractions': contractions,\n",
        "        'positive_words': positive_words,\n",
        "        'negative_words': negative_words,\n",
        "        'negation_phrases': negation_phrases,\n",
        "        'urgency_words': urgency_words,\n",
        "        'filtered_stop_words': filtered_stop_words,\n",
        "    }\n",
        "\n",
        "joblib.dump(model_components, 'model/improved_sentiment_model.pkl')\n",
        "print(\"Model and components saved to 'model/improved_sentiment_model.pkl'\")\n",
        "\n",
        "def predict_sentiment(new_messages, model_path='model/improved_sentiment_model.pkl', threshold=0.5):\n",
        "\n",
        "    # model components\n",
        "    components = joblib.load(model_path)\n",
        "    is_ensemble = components.get('is_ensemble', False)\n",
        "\n",
        "    if is_ensemble:\n",
        "        models = components['models']\n",
        "    else:\n",
        "        model = components['model']\n",
        "\n",
        "    tfidf_vectorizer = components['tfidf_vectorizer']\n",
        "    nlp_feature_names = components['nlp_feature_names']\n",
        "    contractions = components.get('contractions', {})\n",
        "    positive_words = components.get('positive_words', [])\n",
        "    negative_words = components.get('negative_words', [])\n",
        "    negation_phrases = components.get('negation_phrases', [])\n",
        "    urgency_words = components.get('urgency_words', [])\n",
        "    filtered_stop_words = components.get('filtered_stop_words', set())\n",
        "\n",
        "    # VADER sentiment analyzer\n",
        "    sid = SentimentIntensityAnalyzer()\n",
        "\n",
        "    #rext cleaning helper functions\n",
        "    def expand_contractions_helper(text):\n",
        "        \"\"\"Expand contractions in text\"\"\"\n",
        "        for contraction, expanded in contractions.items():\n",
        "            text = re.sub(r'\\b' + contraction + r'\\b', expanded, text)\n",
        "        return text\n",
        "\n",
        "    def clean_text_helper(text):\n",
        "\n",
        "        if not isinstance(text, str):\n",
        "            return \"\"\n",
        "        text = text.lower()\n",
        "        text = expand_contractions_helper(text)\n",
        "        text = re.sub(r'\\s+', ' ', text)\n",
        "        text = re.sub(r'https?://\\S+|www\\.\\S+', '', text)\n",
        "        text = re.sub(r'\\S+@\\S+', '', text)\n",
        "        text = re.sub(r'[^\\w\\s!?.,;:()\\'\"-]', ' ', text)\n",
        "        text = re.sub(r'([!?.,;:()\\'\"/-])\\1+', r'\\1', text)\n",
        "        words = word_tokenize(text)\n",
        "        lemmatizer = WordNetLemmatizer()\n",
        "        cleaned_words = [lemmatizer.lemmatize(word) for word in words if word not in filtered_stop_words]\n",
        "        return \" \".join(cleaned_words)\n",
        "\n",
        "    def generate_nlp_features_helper(df):\n",
        "\n",
        "        df['char_count'] = df['cleaned_text'].apply(len)\n",
        "        df['word_count'] = df['cleaned_text'].apply(lambda x: len(x.split()))\n",
        "        df['avg_word_length'] = df['cleaned_text'].apply(lambda x:\n",
        "                                                    np.mean([len(word) for word in x.split()]) if len(x.split()) > 0 else 0)\n",
        "        df['sentence_count'] = df['customer_message'].apply(lambda x: len(re.split(r'[.!?]+', x)))\n",
        "        df['positive_word_count'] = df['cleaned_text'].apply(\n",
        "            lambda x: sum(1 for word in x.split() if word.lower() in positive_words))\n",
        "        df['negative_word_count'] = df['cleaned_text'].apply(\n",
        "            lambda x: sum(1 for word in x.split() if word.lower() in negative_words))\n",
        "        df['negation_phrase_count'] = df['customer_message'].apply(\n",
        "            lambda x: sum(1 for phrase in negation_phrases if phrase.lower() in x.lower()))\n",
        "        df['vader_compound'] = df['customer_message'].apply(lambda x: sid.polarity_scores(x)['compound'])\n",
        "        df['vader_pos'] = df['customer_message'].apply(lambda x: sid.polarity_scores(x)['pos'])\n",
        "        df['vader_neg'] = df['customer_message'].apply(lambda x: sid.polarity_scores(x)['neg'])\n",
        "        df['vader_neu'] = df['customer_message'].apply(lambda x: sid.polarity_scores(x)['neu'])\n",
        "        df['positive_negative_diff'] = df['positive_word_count'] - df['negative_word_count']\n",
        "        df['positive_negative_ratio'] = (df['positive_word_count'] + 0.1) / (df['negative_word_count'] + 0.1)\n",
        "        df['question_count'] = df['customer_message'].apply(lambda x: x.count('?'))\n",
        "        df['exclamation_count'] = df['customer_message'].apply(lambda x: x.count('!'))\n",
        "        df['uppercase_word_count'] = df['customer_message'].apply(\n",
        "            lambda x: sum(1 for word in x.split() if word.isupper() and len(word) > 1))\n",
        "        df['urgency_score'] = df['customer_message'].apply(\n",
        "            lambda x: sum(1 for phrase in urgency_words if phrase.lower() in x.lower()))\n",
        "        df['avg_sentence_length'] = df.apply(\n",
        "            lambda row: row['word_count'] / max(row['sentence_count'], 1), axis=1)\n",
        "        return df\n",
        "\n",
        "    new_df = pd.DataFrame({'customer_message': new_messages})\n",
        "    new_df['cleaned_text'] = new_df['customer_message'].apply(clean_text_helper)\n",
        "    new_df = generate_nlp_features_helper(new_df)\n",
        "    X_nlp = new_df[nlp_feature_names].values\n",
        "    X_tfidf = tfidf_vectorizer.transform(new_df['cleaned_text'])\n",
        "    X_nlp_sparse = csr_matrix(X_nlp)\n",
        "    X_combined = hstack([X_nlp_sparse, X_tfidf])\n",
        "\n",
        "    if is_ensemble:\n",
        "        all_preds = []\n",
        "        for name, model in models.items():\n",
        "            probs = model.predict_proba(X_combined)\n",
        "            all_preds.append(probs)\n",
        "        ensemble_probs = np.zeros_like(all_preds[0])\n",
        "        for prob in all_preds:\n",
        "            ensemble_probs += prob\n",
        "        ensemble_probs /= len(all_preds)\n",
        "        pred_indices = np.argmax(ensemble_probs, axis=1)\n",
        "        confidence = np.max(ensemble_probs, axis=1)\n",
        "        classes = components.get('classes', [])\n",
        "        if classes:\n",
        "            predictions = [classes[i] for i in pred_indices]\n",
        "        else:\n",
        "            predictions = pred_indices\n",
        "    else:\n",
        "        probs = model.predict_proba(X_combined)\n",
        "        pred_indices = np.argmax(probs, axis=1)\n",
        "        confidence = np.max(probs, axis=1)\n",
        "        classes = components.get('classes', [])\n",
        "        if classes:\n",
        "            predictions = [classes[i] for i in pred_indices]\n",
        "        else:\n",
        "            predictions = pred_indices\n",
        "\n",
        "    new_df['predicted_sentiment'] = predictions\n",
        "    new_df['confidence'] = confidence\n",
        "    new_df['high_confidence'] = new_df['confidence'] >= threshold\n",
        "\n",
        "    def get_prediction_explanation(row):\n",
        "        explanation = []\n",
        "        if row['vader_compound'] >= 0.05:\n",
        "            explanation.append(\"Positive overall sentiment detected.\")\n",
        "        elif row['vader_compound'] <= -0.05:\n",
        "            explanation.append(\"Negative overall sentiment detected.\")\n",
        "        if row['positive_word_count'] > row['negative_word_count']:\n",
        "            explanation.append(f\"More positive words ({row['positive_word_count']}) than negative words ({row['negative_word_count']}).\")\n",
        "        elif row['negative_word_count'] > row['positive_word_count']:\n",
        "            explanation.append(f\"More negative words ({row['negative_word_count']}) than positive words ({row['positive_word_count']}).\")\n",
        "        if row['negation_phrase_count'] > 0:\n",
        "            explanation.append(f\"Contains {row['negation_phrase_count']} negative phrases.\")\n",
        "        if row['urgency_score'] > 0:\n",
        "            explanation.append(f\"Contains {row['urgency_score']} urgency indicators.\")\n",
        "        if row['exclamation_count'] > 1:\n",
        "            explanation.append(f\"Uses {row['exclamation_count']} exclamation marks.\")\n",
        "        if row['uppercase_word_count'] > 1:\n",
        "            explanation.append(f\"Contains {row['uppercase_word_count']} words in ALL CAPS.\")\n",
        "        message_words = set(row['cleaned_text'].split())\n",
        "        pos_matches = message_words.intersection(set(positive_words))\n",
        "        neg_matches = message_words.intersection(set(negative_words))\n",
        "        if pos_matches:\n",
        "            top_pos = list(pos_matches)[:3]\n",
        "            explanation.append(f\"Positive words: {', '.join(top_pos)}\")\n",
        "        if neg_matches:\n",
        "            top_neg = list(neg_matches)[:3]\n",
        "            explanation.append(f\"Negative words: {', '.join(top_neg)}\")\n",
        "        return \"; \".join(explanation)\n",
        "\n",
        "    new_df['explanation'] = new_df.apply(get_prediction_explanation, axis=1)\n",
        "    return new_df"
      ],
      "metadata": {
        "colab": {
          "base_uri": "https://localhost:8080/"
        },
        "id": "xlkI1plr0m-M",
        "outputId": "f7a1a08f-11e6-4a28-a93c-a5a3a694dfc6"
      },
      "execution_count": null,
      "outputs": [
        {
          "output_type": "stream",
          "name": "stdout",
          "text": [
            "\n",
            "=== Saving the Model and Preprocessing Components ===\n",
            "Model and components saved to 'model/improved_sentiment_model.pkl'\n"
          ]
        }
      ]
    },
    {
      "cell_type": "markdown",
      "source": [
        "**Section 10: Test the Prediction Function with Sample Messages**\n"
      ],
      "metadata": {
        "id": "iU-0FCnU0aMr"
      }
    },
    {
      "cell_type": "code",
      "source": [
        "\n",
        "print(\"\\n=== Testing the Model with Sample Messages ===\")\n",
        "sample_messages = [\n",
        "    \"Thank you for your prompt response to my issue. The solution worked perfectly!\",\n",
        "    \"I'm extremely frustrated with your service. This is the third time I've had to call about this issue and nothing has been fixed.\",\n",
        "    \"I received my order today. The packaging was good but the product doesn't work as expected.\",\n",
        "    \"I would like to inquire about the status of my refund which was promised two weeks ago.\",\n",
        "    \"I placed an order last week. Can you confirm the shipping status?\",\n",
        "    \"The support team was very helpful and resolved my issue in no time!\"\n",
        "\n",
        "]\n",
        "\n",
        "predictions = predict_sentiment(sample_messages)\n",
        "print(\"\\nSample Message Predictions:\")\n",
        "for i, row in predictions.iterrows():\n",
        "    print(f\"\\nMessage: {row['customer_message']}\")\n",
        "    print(f\"Predicted sentiment: {row['predicted_sentiment']} (Confidence: {row['confidence']:.2f})\")\n",
        "    print(f\"Explanation: {row['explanation']}\")\n"
      ],
      "metadata": {
        "colab": {
          "base_uri": "https://localhost:8080/"
        },
        "id": "k0bQaFtd0YP1",
        "outputId": "636325bd-b28b-4c17-f572-fff295667483"
      },
      "execution_count": null,
      "outputs": [
        {
          "output_type": "stream",
          "name": "stdout",
          "text": [
            "\n",
            "=== Testing the Model with Sample Messages ===\n",
            "\n",
            "Sample Message Predictions:\n",
            "\n",
            "Message: Thank you for your prompt response to my issue. The solution worked perfectly!\n",
            "Predicted sentiment: Satisfied (Confidence: 0.60)\n",
            "Explanation: Positive overall sentiment detected.; More positive words (2) than negative words (1).; Contains 1 urgency indicators.; Positive words: solution, thank; Negative words: issue\n",
            "\n",
            "Message: I'm extremely frustrated with your service. This is the third time I've had to call about this issue and nothing has been fixed.\n",
            "Predicted sentiment: Frustrated (Confidence: 0.51)\n",
            "Explanation: Negative overall sentiment detected.; More negative words (2) than positive words (1).; Contains 1 negative phrases.; Positive words: fixed; Negative words: issue, frustrated\n",
            "\n",
            "Message: I received my order today. The packaging was good but the product doesn't work as expected.\n",
            "Predicted sentiment: Neutral (Confidence: 0.38)\n",
            "Explanation: Positive overall sentiment detected.; Contains 1 urgency indicators.; Positive words: good; Negative words: not\n",
            "\n",
            "Message: I would like to inquire about the status of my refund which was promised two weeks ago.\n",
            "Predicted sentiment: Neutral (Confidence: 0.54)\n",
            "Explanation: Positive overall sentiment detected.; More negative words (1) than positive words (0).; Negative words: refund\n",
            "\n",
            "Message: I placed an order last week. Can you confirm the shipping status?\n",
            "Predicted sentiment: Neutral (Confidence: 0.52)\n",
            "Explanation: \n",
            "\n",
            "Message: The support team was very helpful and resolved my issue in no time!\n",
            "Predicted sentiment: Satisfied (Confidence: 0.52)\n",
            "Explanation: Positive overall sentiment detected.; Positive words: helpful, resolved; Negative words: issue, no\n"
          ]
        }
      ]
    },
    {
      "cell_type": "markdown",
      "source": [
        "### Analysis:\n",
        "- Cross-validation: The cross-validation scores indicate whether the model is overfitting. If the CV scores are consistent and close to the test accuracy, the model generalizes well.\n",
        "- Feature Importance**: TFIDF features often perform better than BoW because they account for word importance.\n",
        "- Regularization: Using L2 regularization in LogisticRegression helps prevent overfitting by penalizing large coefficients.\n",
        "- Metrics: Precision, recall, and F1-score provide a more comprehensive evaluation than accuracy alone, especially for imbalanced datasets.\n",
        "- Improvements: Try more advanced models like XGBoost or fine-tune hyperparameters using GridSearchCV."
      ],
      "metadata": {
        "id": "vNACWLvh4nIM"
      }
    }
  ],
  "metadata": {
    "colab": {
      "provenance": [],
      "include_colab_link": true
    },
    "kernelspec": {
      "display_name": "Python 3",
      "name": "python3"
    },
    "language_info": {
      "name": "python"
    }
  },
  "nbformat": 4,
  "nbformat_minor": 0
}